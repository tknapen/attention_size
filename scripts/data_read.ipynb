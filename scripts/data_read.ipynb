{
  "cells": [
    {
      "cell_type": "code",
      "source": [
        "import numpy as np\n",
        "import pandas as pd\n",
        "import scipy as sp\n",
        "from scipy.optimize import curve_fit\n",
        "\n",
        "import matplotlib.pyplot as pl\n",
        "\n",
        "%matplotlib inline\n"
      ],
      "outputs": [],
      "execution_count": 61,
      "metadata": {
        "collapsed": false,
        "outputHidden": false,
        "inputHidden": false
      }
    },
    {
      "cell_type": "code",
      "source": [
        "def sigmoid(x, x0, k):\n",
        "     y = 1 / (1 + np.exp(-k*(x-x0)))\n",
        "     return y\n",
        "\n\nd = pd.read_csv('/Users/knapen/projects/attention_size/exp/data/tk_1_2018-04-29_12.06.40.tsv', sep='\\t')"
      ],
      "outputs": [],
      "execution_count": 62,
      "metadata": {
        "collapsed": false,
        "outputHidden": false,
        "inputHidden": false
      }
    },
    {
      "cell_type": "code",
      "source": [
        "d.head()\n",
        "condition = 'fix_trial_stimulus_value'"
      ],
      "outputs": [],
      "execution_count": 63,
      "metadata": {
        "collapsed": false,
        "outputHidden": false,
        "inputHidden": false
      }
    },
    {
      "cell_type": "code",
      "source": [
        "sd = pd.DataFrame([d[condition], d['answer']]).T\n",
        "sd = sd[sd['answer']!=-1]\n",
        "gr = sd.groupby(condition)"
      ],
      "outputs": [],
      "execution_count": 64,
      "metadata": {
        "collapsed": false,
        "outputHidden": false,
        "inputHidden": false
      }
    },
    {
      "cell_type": "code",
      "source": [
        "x_axis_values = sd[condition].unique()\n",
        "x_axis_values.sort()\n",
        "y_values = np.array(gr.mean()).ravel()"
      ],
      "outputs": [],
      "execution_count": 65,
      "metadata": {
        "collapsed": false,
        "outputHidden": false,
        "inputHidden": false
      }
    },
    {
      "cell_type": "code",
      "source": [
        "popt, pcov = curve_fit(sigmoid, x_axis_values, y_values)"
      ],
      "outputs": [],
      "execution_count": 66,
      "metadata": {
        "collapsed": false,
        "outputHidden": false,
        "inputHidden": false
      }
    },
    {
      "cell_type": "code",
      "source": [
        "x_continuous = np.linspace(x_axis_values.min(), x_axis_values.max(), 1000)\n",
        "y_continuous = sigmoid(x, *popt)"
      ],
      "outputs": [],
      "execution_count": 67,
      "metadata": {
        "collapsed": false,
        "outputHidden": false,
        "inputHidden": false
      }
    },
    {
      "cell_type": "code",
      "source": [
        "pl.plot(x_axis_values, y_values, 'o', label='data')\n",
        "pl.plot(x_continuous, y_continuous, label='fit')\n",
        "pl.axhline(y=0.5, linestyle='dashed')\n",
        "pl.gca().set_ylim([-0.05,1.05])\n",
        "pl.gca().set_xlabel('Stim color (all red, 0, all green)')\n",
        "pl.gca().set_ylabel('% awnsered red')\n",
        "pl.gca().legend(loc='best')\n",
        "pl.gca().set_title(condition)"
      ],
      "outputs": [
        {
          "output_type": "execute_result",
          "execution_count": 68,
          "data": {
            "text/plain": [
              "<matplotlib.text.Text at 0xa22ca35c0>"
            ]
          },
          "metadata": {}
        },
        {
          "output_type": "display_data",
          "data": {
            "text/plain": [
              "<matplotlib.figure.Figure at 0xa241e30b8>"
            ],
            "image/png": "[encoded data removed]"
          },
          "metadata": {}
        }
      ],
      "execution_count": 68,
      "metadata": {
        "collapsed": false,
        "outputHidden": false,
        "inputHidden": false
      }
    },
    {
      "cell_type": "code",
      "source": [],
      "outputs": [],
      "execution_count": 69,
      "metadata": {
        "collapsed": false,
        "outputHidden": false,
        "inputHidden": false
      }
    }
  ],
  "metadata": {
    "kernel_info": {
      "name": "py36"
    },
    "kernelspec": {
      "name": "py36",
      "language": "python",
      "display_name": "Python (py36)"
    },
    "language_info": {
      "name": "python",
      "version": "3.6.3",
      "mimetype": "text/x-python",
      "codemirror_mode": {
        "name": "ipython",
        "version": 3
      },
      "pygments_lexer": "ipython3",
      "nbconvert_exporter": "python",
      "file_extension": ".py"
    },
    "nteract": {
      "version": "0.8.4"
    }
  },
  "nbformat": 4,
  "nbformat_minor": 4
}